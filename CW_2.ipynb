{
 "cells": [
  {
   "cell_type": "code",
   "execution_count": 1,
   "id": "fd2fc382-ac68-4955-a2fb-ae60e8bdfdbe",
   "metadata": {},
   "outputs": [],
   "source": [
    "import os"
   ]
  },
  {
   "cell_type": "code",
   "execution_count": 2,
   "id": "ddc3e6bc-aeed-42c2-80dd-2c47c9e04309",
   "metadata": {},
   "outputs": [
    {
     "data": {
      "text/plain": [
       "'/Users/tarun/Downloads/VS code Python'"
      ]
     },
     "execution_count": 2,
     "metadata": {},
     "output_type": "execute_result"
    }
   ],
   "source": [
    "%pwd"
   ]
  },
  {
   "cell_type": "code",
   "execution_count": 3,
   "id": "4f90715e-4c30-41a6-943c-aedca82888e8",
   "metadata": {},
   "outputs": [],
   "source": [
    "new_dir = \"new_dir\""
   ]
  },
  {
   "cell_type": "code",
   "execution_count": 4,
   "id": "8abc1b10-c839-493d-8355-4ac35ad7bf36",
   "metadata": {},
   "outputs": [],
   "source": [
    "os.mkdir(new_dir)"
   ]
  },
  {
   "cell_type": "code",
   "execution_count": 5,
   "id": "f62af593-8e71-48f0-bd2a-d19d8cf3e557",
   "metadata": {},
   "outputs": [
    {
     "data": {
      "text/plain": [
       "['geeks',\n",
       " 'EDA.ipynb',\n",
       " '.DS_Store',\n",
       " 'Python',\n",
       " 'Tarun.mp3',\n",
       " 'CW_2.ipynb',\n",
       " 'ClassWork.ipynb',\n",
       " 'new_dir',\n",
       " 'powerBI',\n",
       " 'example.txt',\n",
       " 'qr.png',\n",
       " '.ipynb_checkpoints',\n",
       " '.vscode',\n",
       " 'project 10th-Sept.py',\n",
       " 'wt1']"
      ]
     },
     "execution_count": 5,
     "metadata": {},
     "output_type": "execute_result"
    }
   ],
   "source": [
    "os.listdir('.')"
   ]
  },
  {
   "cell_type": "code",
   "execution_count": 6,
   "id": "b6793f3f-6646-43e3-84c5-29412fed3ce0",
   "metadata": {},
   "outputs": [],
   "source": [
    "with open(\"new_dir/abc.txt\",\"w\") as f:\n",
    "    f.write(\"This is a test file.\")"
   ]
  },
  {
   "cell_type": "code",
   "execution_count": 7,
   "id": "39317dbb-b0ca-4088-ae4a-151ffe8e4bac",
   "metadata": {},
   "outputs": [
    {
     "name": "stdout",
     "output_type": "stream",
     "text": [
      "This is a test file.\n"
     ]
    }
   ],
   "source": [
    "with open(\"new_dir/abc.txt\",\"r\") as f:\n",
    "    print(f.read())"
   ]
  },
  {
   "cell_type": "code",
   "execution_count": 8,
   "id": "f4ee3974-b243-4d7a-97e7-f26ebe4a9fcb",
   "metadata": {},
   "outputs": [],
   "source": [
    "os.rename(\"new_dir/abc.txt\",\"new_dir/abc_rename.txt\")"
   ]
  },
  {
   "cell_type": "code",
   "execution_count": 9,
   "id": "cf500936-b6ab-44a7-adc2-9c7f8f03bd1b",
   "metadata": {},
   "outputs": [
    {
     "data": {
      "text/plain": [
       "['abc_rename.txt']"
      ]
     },
     "execution_count": 9,
     "metadata": {},
     "output_type": "execute_result"
    }
   ],
   "source": [
    "os.listdir(new_dir)"
   ]
  },
  {
   "cell_type": "code",
   "execution_count": 11,
   "id": "ed391423-84b9-463c-b929-3d0e9483641a",
   "metadata": {},
   "outputs": [],
   "source": [
    "os.remove(\"new_dir/abc_rename.txt\")"
   ]
  },
  {
   "cell_type": "code",
   "execution_count": null,
   "id": "950a3898-4bd2-4a22-89dd-4f1861794cbe",
   "metadata": {},
   "outputs": [],
   "source": []
  }
 ],
 "metadata": {
  "kernelspec": {
   "display_name": "Python 3 (ipykernel)",
   "language": "python",
   "name": "python3"
  },
  "language_info": {
   "codemirror_mode": {
    "name": "ipython",
    "version": 3
   },
   "file_extension": ".py",
   "mimetype": "text/x-python",
   "name": "python",
   "nbconvert_exporter": "python",
   "pygments_lexer": "ipython3",
   "version": "3.12.4"
  }
 },
 "nbformat": 4,
 "nbformat_minor": 5
}
